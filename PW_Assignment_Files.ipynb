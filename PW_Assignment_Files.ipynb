{
  "nbformat": 4,
  "nbformat_minor": 0,
  "metadata": {
    "colab": {
      "provenance": []
    },
    "kernelspec": {
      "name": "python3",
      "display_name": "Python 3"
    },
    "language_info": {
      "name": "python"
    }
  },
  "cells": [
    {
      "cell_type": "markdown",
      "source": [
        "      <!-- PW_Assignment_05\n",
        "\n",
        "            Files, exceptional handling,\n",
        "            logging and memory\n",
        "            management\n",
        "\n",
        "\n",
        "\n",
        "## THEORY QUESTIONS ##\n",
        "\n",
        "\n",
        "1. Difference between interpreted and compiled languages\n",
        "\n",
        "\n",
        "    Interpreted: Code is executed line by line (e.g., Python, JavaScript).\n",
        "\n",
        "\n",
        "    Compiled: Code is converted to machine code before execution (e.g., C, C++).\n",
        "\n",
        "\n",
        "    Python is both interpreted and partially compiled (to bytecode).\n",
        "\n",
        "\n",
        "2. Exception handling in Python\n",
        "    Mechanism to catch and manage errors using try, except, finally, and else.\n",
        "\n",
        "\n",
        "3. Purpose of the finally block\n",
        "    Runs always, regardless of exceptions—used for cleanup like closing files.\n",
        "\n",
        "\n",
        "4. Logging in Python\n",
        "    Records events during program execution for debugging and monitoring via the logging module.\n",
        "\n",
        "\n",
        "5. Significance of __del__ method\n",
        "    Destructor method called when an object is about to be destroyed. Used for cleanup tasks.\n",
        "\n",
        "\n",
        "6. Difference between import and from ... import\n",
        "\n",
        "\n",
        "    import math → use with math.sqrt()\n",
        "\n",
        "\n",
        "    from math import sqrt → use directly as sqrt()\n",
        "\n",
        "\n",
        "7. Handling multiple exceptions\n",
        "    Use multiple except blocks or a tuple:\n",
        "\n",
        "    except (ValueError, TypeError): pass\n",
        "\n",
        "8. Purpose of with statement for files\n",
        "    Ensures file is automatically closed after operations.\n",
        "\n",
        "\n",
        "9. Multithreading vs Multiprocessing\n",
        "\n",
        "\n",
        "    Multithreading: Multiple threads in one process (shared memory).\n",
        "\n",
        "\n",
        "    Multiprocessing: Multiple processes with separate memory (better for CPU-bound tasks).\n",
        "\n",
        "\n",
        "10. Advantages of using logging\n",
        "\n",
        "\n",
        "    Tracks runtime events\n",
        "\n",
        "\n",
        "    Helps in debugging and auditing\n",
        "\n",
        "\n",
        "    Provides configurable logging levels\n",
        "\n",
        "\n",
        "11. Memory management in Python\n",
        "    Managed by the Python memory manager, includes allocation, garbage collection, etc.\n",
        "\n",
        "\n",
        "12. Basic steps in exception handling\n",
        "\n",
        "\n",
        "    try: risky code\n",
        "\n",
        "\n",
        "    except: handle errors\n",
        "\n",
        "\n",
        "    else: if no error\n",
        "\n",
        "\n",
        "    finally: always run cleanup\n",
        "\n",
        "\n",
        "13. Importance of memory management\n",
        "    Avoids memory leaks, ensures performance and stability of applications.\n",
        "\n",
        "\n",
        "14. Role of try and except\n",
        "    Prevent program crash and manage runtime errors gracefully.\n",
        "\n",
        "\n",
        "15. Python's garbage collection\n",
        "    Uses reference counting and cyclic GC to delete unused objects automatically.\n",
        "\n",
        "\n",
        "16. Purpose of else block in exceptions\n",
        "    Executes only if no exception occurs in try.\n",
        "\n",
        "17. Common logging levels\n",
        "\n",
        "\n",
        "    DEBUG\n",
        "\n",
        "\n",
        "    INFO\n",
        "\n",
        "\n",
        "    WARNING\n",
        "\n",
        "\n",
        "    ERROR\n",
        "\n",
        "\n",
        "    CRITICAL\n",
        "\n",
        "\n",
        "18. Difference between os.fork() and multiprocessing\n",
        "\n",
        "\n",
        "    os.fork(): Unix-only, low-level process creation\n",
        "\n",
        "\n",
        "    multiprocessing: Cross-platform, high-level interface\n",
        "\n",
        "\n",
        "19. Importance of closing a file\n",
        "    Frees up system resources and ensures data is written properly.\n",
        "\n",
        "\n",
        "20. Difference between file.read() and file.readline()\n",
        "\n",
        "\n",
        "    read(): reads entire file\n",
        "\n",
        "\n",
        "    readline(): reads one line at a time\n",
        "\n",
        "\n",
        "21. Purpose of logging module\n",
        "    Provides a flexible framework to log messages from Python programs.\n",
        "\n",
        "\n",
        "22. Purpose of os module\n",
        "    Interacts with the operating system: path operations, file manipulation, etc.\n",
        "\n",
        "\n",
        "23. Challenges in memory management\n",
        "\n",
        "\n",
        "    Circular references\n",
        "\n",
        "\n",
        "    Memory leaks\n",
        "\n",
        "\n",
        "    Manual resource cleanup\n",
        "\n",
        "\n",
        "24. Raising exception manually\n",
        "\n",
        " raise ValueError(\"Custom error\")\n",
        "\n",
        "25. Importance of multithreading\n",
        "\n",
        "\n",
        "    Handles multiple tasks (I/O) simultaneously\n",
        "\n",
        "\n",
        "    Improves performance for I/O-bound programs\n",
        "\n",
        " -->\n"
      ],
      "metadata": {
        "id": "RNGgFFlHpbTx"
      }
    },
    {
      "cell_type": "code",
      "source": [
        "#1\n",
        "\n",
        "with open(\"file.txt\", \"w\") as f:\n",
        "    f.write(\"Hello, world!\")\n"
      ],
      "metadata": {
        "id": "6Fw5vYpkwuoz"
      },
      "execution_count": 56,
      "outputs": []
    },
    {
      "cell_type": "code",
      "source": [
        "#2\n",
        "\n",
        "with open(\"file.txt\", \"r\") as f:\n",
        "    for line in f:\n",
        "        print(line.strip())\n"
      ],
      "metadata": {
        "colab": {
          "base_uri": "https://localhost:8080/"
        },
        "id": "xQ1AVfBnp8Vb",
        "outputId": "259d7439-8735-4eba-c4b1-f99641bf8b18"
      },
      "execution_count": 57,
      "outputs": [
        {
          "output_type": "stream",
          "name": "stdout",
          "text": [
            "Hello, world!\n"
          ]
        }
      ]
    },
    {
      "cell_type": "code",
      "source": [
        "#3\n",
        "\n",
        "try:\n",
        "    with open(\"missing.txt\", \"r\") as f:\n",
        "        data = f.read()\n",
        "except FileNotFoundError:\n",
        "    print(\"File not found\")\n"
      ],
      "metadata": {
        "colab": {
          "base_uri": "https://localhost:8080/"
        },
        "id": "vF5OPT4lp__J",
        "outputId": "d1f48e0e-586c-44ff-f2a8-58a3fd5b13a7"
      },
      "execution_count": 58,
      "outputs": [
        {
          "output_type": "stream",
          "name": "stdout",
          "text": [
            "File not found\n"
          ]
        }
      ]
    },
    {
      "cell_type": "code",
      "source": [
        "#4\n",
        "\n",
        "with open(\"source.txt\", \"w\") as f:\n",
        "    f.write(\"This is the content of source.txt\")"
      ],
      "metadata": {
        "id": "PEgA7pjqqHWu"
      },
      "execution_count": 59,
      "outputs": []
    },
    {
      "cell_type": "code",
      "metadata": {
        "colab": {
          "base_uri": "https://localhost:8080/"
        },
        "id": "bdf66f37",
        "outputId": "ca0f656a-32da-44af-bbfd-ad715e411fb1"
      },
      "source": [
        "\n",
        "with open(\"source.txt\", \"r\") as src, open(\"dest.txt\", \"w\") as dst:\n",
        "    dst.write(src.read())\n",
        "\n",
        "\n",
        "with open(\"dest.txt\", \"r\") as f:\n",
        "    print(f.read())"
      ],
      "execution_count": 60,
      "outputs": [
        {
          "output_type": "stream",
          "name": "stdout",
          "text": [
            "This is the content of source.txt\n"
          ]
        }
      ]
    },
    {
      "cell_type": "code",
      "source": [
        "#5\n",
        "\n",
        "try:\n",
        "    x = 10 / 0\n",
        "except ZeroDivisionError:\n",
        "    print(\"Cannot divide by zero\")\n"
      ],
      "metadata": {
        "colab": {
          "base_uri": "https://localhost:8080/"
        },
        "id": "dStzWGH4qLN8",
        "outputId": "f50beabc-56da-4884-9b9f-b027a109dfbe"
      },
      "execution_count": 61,
      "outputs": [
        {
          "output_type": "stream",
          "name": "stdout",
          "text": [
            "Cannot divide by zero\n"
          ]
        }
      ]
    },
    {
      "cell_type": "code",
      "metadata": {
        "colab": {
          "base_uri": "https://localhost:8080/"
        },
        "id": "9e96696b",
        "outputId": "0efbe105-0f2e-4eda-f48e-38d735b4a3f1"
      },
      "source": [
        "#6\n",
        "\n",
        "import logging\n",
        "logging.basicConfig(filename='error.log', level=logging.ERROR)\n",
        "try:\n",
        "    x = 10 / 0\n",
        "except ZeroDivisionError as e:\n",
        "    logging.error(\"Division by zero error: %s\", e)\n"
      ],
      "execution_count": 62,
      "outputs": [
        {
          "output_type": "stream",
          "name": "stderr",
          "text": [
            "ERROR:root:Division by zero error: division by zero\n"
          ]
        }
      ]
    },
    {
      "cell_type": "code",
      "source": [
        "#7\n",
        "\n",
        "logging.info(\"Info message\")\n",
        "logging.warning(\"Warning\")\n",
        "logging.error(\"Error occurred\")\n"
      ],
      "metadata": {
        "colab": {
          "base_uri": "https://localhost:8080/"
        },
        "id": "Fttm7WBSql5d",
        "outputId": "ffd31c95-9c5f-4290-919b-7f34bb36dca5"
      },
      "execution_count": 63,
      "outputs": [
        {
          "output_type": "stream",
          "name": "stderr",
          "text": [
            "WARNING:root:Warning\n",
            "ERROR:root:Error occurred\n"
          ]
        }
      ]
    },
    {
      "cell_type": "code",
      "source": [
        "#9\n",
        "\n",
        "with open(\"file.txt\") as f:\n",
        "    lines = f.readlines()\n"
      ],
      "metadata": {
        "id": "IgBXYtKbqqIQ"
      },
      "execution_count": 64,
      "outputs": []
    },
    {
      "cell_type": "code",
      "source": [
        "#10\n",
        "\n",
        "with open(\"file.txt\", \"a\") as f:\n",
        "    f.write(\"New line\\n\")\n"
      ],
      "metadata": {
        "id": "udAPBCejqvA7"
      },
      "execution_count": 65,
      "outputs": []
    },
    {
      "cell_type": "code",
      "source": [
        "#11\n",
        "\n",
        "try:\n",
        "    d = {\"a\": 1}\n",
        "    print(d[\"b\"])\n",
        "except KeyError:\n",
        "    print(\"Key not found\")\n"
      ],
      "metadata": {
        "colab": {
          "base_uri": "https://localhost:8080/"
        },
        "id": "Ju-VdeB2qzkO",
        "outputId": "61ee68ff-7c02-4aa9-f489-a3df73866fa6"
      },
      "execution_count": 66,
      "outputs": [
        {
          "output_type": "stream",
          "name": "stdout",
          "text": [
            "Key not found\n"
          ]
        }
      ]
    },
    {
      "cell_type": "code",
      "source": [
        "#12\n",
        "\n",
        "try:\n",
        "    x = int(\"a\")\n",
        "except ValueError:\n",
        "    print(\"Value error\")\n",
        "except TypeError:\n",
        "    print(\"Type error\")\n"
      ],
      "metadata": {
        "colab": {
          "base_uri": "https://localhost:8080/"
        },
        "id": "lZySBmwjq0qd",
        "outputId": "449b2a0c-0d08-4c9e-b5da-74b71b3b0dfc"
      },
      "execution_count": 67,
      "outputs": [
        {
          "output_type": "stream",
          "name": "stdout",
          "text": [
            "Value error\n"
          ]
        }
      ]
    },
    {
      "cell_type": "code",
      "source": [
        "#13\n",
        "\n",
        "import os\n",
        "if os.path.exists(\"file.txt\"):\n",
        "    print(\"Exists\")\n"
      ],
      "metadata": {
        "colab": {
          "base_uri": "https://localhost:8080/"
        },
        "id": "DCNWQ2syq53t",
        "outputId": "f7e27eed-8ee6-400c-ab17-1a71ba2ccd2c"
      },
      "execution_count": 68,
      "outputs": [
        {
          "output_type": "stream",
          "name": "stdout",
          "text": [
            "Exists\n"
          ]
        }
      ]
    },
    {
      "cell_type": "code",
      "source": [
        "#14\n",
        "# same as qstn #6"
      ],
      "metadata": {
        "id": "HpbS3Xa1q8mK"
      },
      "execution_count": 69,
      "outputs": []
    },
    {
      "cell_type": "code",
      "source": [
        "#15\n",
        "\n",
        "with open(\"file.txt\") as f:\n",
        "    content = f.read()\n",
        "    if not content:\n",
        "        print(\"File is empty\")\n",
        "    else:\n",
        "        print(content)\n"
      ],
      "metadata": {
        "colab": {
          "base_uri": "https://localhost:8080/"
        },
        "id": "VC6AmrOZrGis",
        "outputId": "58dd539e-deb2-4ec0-96cf-3486baa18bfe"
      },
      "execution_count": 70,
      "outputs": [
        {
          "output_type": "stream",
          "name": "stdout",
          "text": [
            "Hello, world!New line\n",
            "\n"
          ]
        }
      ]
    },
    {
      "cell_type": "code",
      "source": [],
      "metadata": {
        "id": "_LvJaWZMrMK8"
      },
      "execution_count": 70,
      "outputs": []
    },
    {
      "cell_type": "code",
      "source": [
        "#16\n",
        "\n",
        "from memory_profiler import profile\n",
        "\n",
        "@profile\n",
        "def test():\n",
        "    a = [i for i in range(10000)]\n",
        "    return sum(a)\n",
        "test()\n"
      ],
      "metadata": {
        "colab": {
          "base_uri": "https://localhost:8080/"
        },
        "id": "ZFt_A7wyrJRN",
        "outputId": "3dd5a962-bbe1-47d8-b60e-f50fa532951f"
      },
      "execution_count": 71,
      "outputs": [
        {
          "output_type": "stream",
          "name": "stdout",
          "text": [
            "ERROR: Could not find file /tmp/ipython-input-71-2535839585.py\n"
          ]
        },
        {
          "output_type": "execute_result",
          "data": {
            "text/plain": [
              "49995000"
            ]
          },
          "metadata": {},
          "execution_count": 71
        }
      ]
    },
    {
      "cell_type": "code",
      "source": [
        "#17\n",
        "\n",
        "with open(\"numbers.txt\", \"w\") as f:\n",
        "    for i in range(10):\n",
        "        f.write(f\"{i}\\n\")\n"
      ],
      "metadata": {
        "id": "fWilr6VarcrO"
      },
      "execution_count": 72,
      "outputs": []
    },
    {
      "cell_type": "code",
      "source": [
        "#18\n",
        "\n",
        "from logging.handlers import RotatingFileHandler\n",
        "handler = RotatingFileHandler(\"app.log\", maxBytes=1_000_000, backupCount=5)\n",
        "logging.basicConfig(handlers=[handler], level=logging.INFO)\n",
        "logging.info(\"Logging started\")\n"
      ],
      "metadata": {
        "id": "tq3O1cR9rml0"
      },
      "execution_count": 73,
      "outputs": []
    },
    {
      "cell_type": "code",
      "source": [
        "#19\n",
        "\n",
        "try:\n",
        "    l = [1]\n",
        "    print(l[5])\n",
        "except IndexError:\n",
        "    print(\"Index error\")\n",
        "try:\n",
        "    d = {}\n",
        "    print(d[\"x\"])\n",
        "except KeyError:\n",
        "    print(\"Key error\")\n"
      ],
      "metadata": {
        "colab": {
          "base_uri": "https://localhost:8080/"
        },
        "id": "SK7NPx01rpPL",
        "outputId": "1785eb9a-6c3a-41b5-c07c-03923019e4f9"
      },
      "execution_count": 74,
      "outputs": [
        {
          "output_type": "stream",
          "name": "stdout",
          "text": [
            "Index error\n",
            "Key error\n"
          ]
        }
      ]
    },
    {
      "cell_type": "code",
      "source": [
        "#20 see qstn #4"
      ],
      "metadata": {
        "id": "jzOImZzPrr6l"
      },
      "execution_count": 75,
      "outputs": []
    },
    {
      "cell_type": "code",
      "source": [
        "#21\n",
        "\n",
        "with open(\"file.txt\") as f:\n",
        "    text = f.read()\n",
        "    print(text.count(\"word\"))\n"
      ],
      "metadata": {
        "colab": {
          "base_uri": "https://localhost:8080/"
        },
        "id": "n4K6kSvhrykO",
        "outputId": "93bc9f23-17ac-471f-f2b7-53e22aef1055"
      },
      "execution_count": 76,
      "outputs": [
        {
          "output_type": "stream",
          "name": "stdout",
          "text": [
            "0\n"
          ]
        }
      ]
    },
    {
      "cell_type": "code",
      "source": [
        "#22\n",
        "\n",
        "import os\n",
        "if os.path.getsize(\"file.txt\") == 0:\n",
        "    print(\"Empty file\")\n"
      ],
      "metadata": {
        "id": "54I1Fv5ar0mL"
      },
      "execution_count": 77,
      "outputs": []
    },
    {
      "cell_type": "code",
      "source": [
        "#23\n",
        "\n",
        "try:\n",
        "    with open(\"nofile.txt\") as f:\n",
        "        print(f.read())\n",
        "except Exception as e:\n",
        "    logging.error(\"File handling error: %s\", e)\n"
      ],
      "metadata": {
        "colab": {
          "base_uri": "https://localhost:8080/"
        },
        "id": "11KOTzyBr3Of",
        "outputId": "2b953bdd-e6a6-4f7b-993c-8a34ba765b20"
      },
      "execution_count": 78,
      "outputs": [
        {
          "output_type": "stream",
          "name": "stderr",
          "text": [
            "ERROR:root:File handling error: [Errno 2] No such file or directory: 'nofile.txt'\n"
          ]
        }
      ]
    },
    {
      "cell_type": "code",
      "source": [],
      "metadata": {
        "id": "XePVseMAr5f8"
      },
      "execution_count": 78,
      "outputs": []
    }
  ]
}