{
  "nbformat": 4,
  "nbformat_minor": 0,
  "metadata": {
    "colab": {
      "provenance": []
    },
    "kernelspec": {
      "name": "python3",
      "display_name": "Python 3"
    },
    "language_info": {
      "name": "python"
    }
  },
  "cells": [
    {
      "cell_type": "code",
      "source": [
        "# Q1. What is a random variable in probability theory?\n",
        "\n",
        "# A random variable is a variable that represents the outcome of a random process in numerical form. Instead of describing outcomes with words, probability theory uses random variables to assign numbers to them. For example, when tossing a coin, we can assign the value 0 for tails and 1 for heads.\n",
        "\n",
        "# Random variables are important because they allow us to use mathematical tools and statistical formulas to analyze real-life uncertain situations. They serve as a bridge between random experiments and mathematical probability models.\n",
        "\n",
        "# Q2. What are the types of random variables?\n",
        "\n",
        "# There are two main types of random variables:\n",
        "\n",
        "# Discrete Random Variable – This type can only take countable values, such as integers. For example, the number of heads in 10 coin tosses or the number of cars crossing a bridge in one hour.\n",
        "\n",
        "# Continuous Random Variable – This type can take uncountably many values within an interval. Examples include height, weight, time, or temperature, where values are measured on a continuous scale.\n",
        "\n",
        "# Understanding these types helps in choosing the right probability distribution model for data analysis.\n",
        "\n",
        "# Q3. Explain the difference between discrete and continuous distributions.\n",
        "\n",
        "# A discrete distribution is used when the random variable can only take specific, separate values. Probabilities are assigned directly to each possible value. For example, the binomial distribution assigns probabilities to getting 0, 1, 2, … up to n successes in repeated trials.\n",
        "\n",
        "# A continuous distribution, on the other hand, applies when the variable can take any value within a range. Instead of probabilities for individual points, it uses a probability density function (PDF) to assign probabilities to intervals. For example, the normal distribution describes variables like height or exam scores.\n",
        "\n",
        "# The key difference is that discrete variables have countable outcomes, while continuous variables have infinite possible outcomes in an interval.\n",
        "\n",
        "# Q4. What is a binomial distribution, and how is it used in probability?\n",
        "\n",
        "# The binomial distribution is a probability distribution that describes the number of successes in a fixed number of independent trials, where each trial has only two possible outcomes (success or failure) and the probability of success remains constant.\n",
        "\n",
        "# For example, if we toss a coin 10 times and count the number of heads, this follows a binomial distribution with n = 10 and p = 0.5. The distribution is useful in many real-world problems such as predicting the number of defective products in a batch, analyzing survey responses, or estimating success rates in experiments.\n",
        "\n",
        "# Q5. What is the standard normal distribution, and why is it important?\n",
        "\n",
        "# The standard normal distribution is a special type of normal distribution where the mean is 0 and the standard deviation is 1. It is also known as the Z-distribution.\n",
        "\n",
        "# It is important because it allows us to standardize different datasets and compare them on the same scale. Using Z-scores, we can calculate probabilities and make decisions about how unusual a value is. Many statistical techniques such as hypothesis testing and confidence intervals are based on the standard normal distribution.\n",
        "\n",
        "# Q6. What is the Central Limit Theorem (CLT), and why is it critical in statistics?\n",
        "\n",
        "# The Central Limit Theorem states that when we take repeated random samples of a sufficiently large size from any population, the distribution of the sample means will approximate a normal distribution, even if the population itself is not normally distributed.\n",
        "\n",
        "# This theorem is critical because it allows statisticians to use normal probability methods for inference, regardless of the population’s original distribution. It is the foundation for many statistical methods such as confidence intervals and hypothesis testing, making it one of the most powerful results in probability theory.\n",
        "\n",
        "# Q7. What is the significance of confidence intervals in statistical analysis?\n",
        "\n",
        "# A confidence interval is a range of values calculated from sample data that is likely to contain the true population parameter (such as mean or proportion) with a certain level of confidence, usually 95% or 99%.\n",
        "\n",
        "# Confidence intervals are significant because they not only provide an estimate of the parameter but also indicate the level of uncertainty in that estimate. For example, if the average test score has a 95% confidence interval of 70 to 80, it means we are 95% confident that the true average lies in that range. This is more informative than simply stating one number.\n",
        "\n",
        "# Q8. What is the concept of expected value in a probability distribution?\n",
        "\n",
        "# The expected value of a random variable represents its long-run average outcome if an experiment is repeated many times. It is often referred to as the \"mean\" of the distribution.\n",
        "\n",
        "# For discrete random variables, the expected value is the sum of all possible values multiplied by their probabilities. For continuous variables, it is calculated using an integral of x multiplied by the probability density function.\n",
        "\n",
        "# Expected value is important in decision-making under uncertainty. For example, in gambling or insurance, it helps to determine the average payoff or risk over the long term."
      ],
      "metadata": {
        "id": "uXAjted-k58A"
      },
      "execution_count": 1,
      "outputs": []
    },
    {
      "cell_type": "code",
      "source": [
        "# Q9.\n",
        "import numpy as np\n",
        "import matplotlib.pyplot as plt\n",
        "\n",
        "# Generate 1000 random numbers from normal distribution\n",
        "data = np.random.normal(loc=50, scale=5, size=1000)\n",
        "\n",
        "# Compute mean and standard deviation\n",
        "mean_val = np.mean(data)\n",
        "std_val = np.std(data)\n",
        "\n",
        "print(\"Mean:\", mean_val)\n",
        "print(\"Standard Deviation:\", std_val)\n",
        "\n",
        "# Plot histogram\n",
        "plt.hist(data, bins=30, density=True, alpha=0.6, color='blue')\n",
        "plt.title(\"Histogram of Normal Distribution (mean=50, std=5)\")\n",
        "plt.xlabel(\"Value\")\n",
        "plt.ylabel(\"Frequency\")\n",
        "plt.show()\n"
      ],
      "metadata": {
        "colab": {
          "base_uri": "https://localhost:8080/",
          "height": 507
        },
        "id": "72f18tCFok-3",
        "outputId": "8ac02bba-3bba-4e18-dd1b-0fa4a11abc57"
      },
      "execution_count": 1,
      "outputs": [
        {
          "output_type": "stream",
          "name": "stdout",
          "text": [
            "Mean: 50.0924621665915\n",
            "Standard Deviation: 4.824365210988079\n"
          ]
        },
        {
          "output_type": "display_data",
          "data": {
            "text/plain": [
              "<Figure size 640x480 with 1 Axes>"
            ],
            "image/png": "[encoded data removed]"
          },
          "metadata": {}
        }
      ]
    },
    {
      "cell_type": "code",
      "source": [
        "# Q 10.\n",
        "import numpy as np\n",
        "import scipy.stats as st\n",
        "\n",
        "# Daily sales data\n",
        "daily_sales = [220, 245, 210, 265, 230, 250, 260, 275, 240, 255,\n",
        "               235, 260, 245, 250, 225, 270, 265, 255, 250, 260]\n",
        "\n",
        "sales = np.array(daily_sales)\n",
        "\n",
        "# Mean and standard deviation\n",
        "mean_sales = np.mean(sales)\n",
        "std_sales = np.std(sales, ddof=1)  # sample std\n",
        "n = len(sales)\n",
        "\n",
        "# Standard error\n",
        "se = std_sales / np.sqrt(n)\n",
        "\n",
        "# 95% confidence interval\n",
        "ci_low, ci_high = st.norm.interval(0.95, loc=mean_sales, scale=se)\n",
        "\n",
        "print(\"Mean Sales:\", mean_sales)\n",
        "print(\"95% Confidence Interval:\", (ci_low, ci_high))\n"
      ],
      "metadata": {
        "colab": {
          "base_uri": "https://localhost:8080/"
        },
        "id": "KXHC8lVU53aV",
        "outputId": "63a0bcfa-ec8d-4723-d8df-47d1c75fedc0"
      },
      "execution_count": 2,
      "outputs": [
        {
          "output_type": "stream",
          "name": "stdout",
          "text": [
            "Mean Sales: 248.25\n",
            "95% Confidence Interval: (np.float64(240.68326838343515), np.float64(255.81673161656485))\n"
          ]
        }
      ]
    },
    {
      "cell_type": "code",
      "source": [],
      "metadata": {
        "id": "yroW19xz58Pf"
      },
      "execution_count": null,
      "outputs": []
    }
  ]
}