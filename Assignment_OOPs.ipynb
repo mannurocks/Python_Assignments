{
  "nbformat": 4,
  "nbformat_minor": 0,
  "metadata": {
    "colab": {
      "provenance": []
    },
    "kernelspec": {
      "name": "python3",
      "display_name": "Python 3"
    },
    "language_info": {
      "name": "python"
    }
  },
  "cells": [
    {
      "cell_type": "markdown",
      "source": [
        "#PYTHON OOPs QUESTION"
      ],
      "metadata": {
        "id": "a94hginfPOJn"
      }
    },
    {
      "cell_type": "markdown",
      "source": [
        "THEORY QUESTIONS\n",
        "1. What is Object-Oriented Programming (OOP)?\n",
        "    OOP is a programming paradigm that organizes code around objects, which are instances of classes. It emphasizes concepts like encapsulation, inheritance, polymorphism, and abstraction to make code modular, reusable, and maintainable.\n",
        "\n",
        "2. What is a class in OOP?\n",
        "    A class is a blueprint for creating objects. It defines attributes (data) and methods (functions) that describe the behavior and properties of objects instantiated from it.\n",
        "\n",
        "3. What is an object in OOP?\n",
        "    An object is an instance of a class, representing a specific entity with the class's defined attributes and methods. For example, if Dog is a class, an object would be a specific dog like my_dog = Dog().\n",
        "\n",
        "4. What is the difference between abstraction and encapsulation?\n",
        "\n",
        "    Abstraction: Hides complex implementation details and exposes only essential features (e.g., using abstract classes or interfaces).\n",
        "\n",
        "    Encapsulation: Bundles data and methods within a class and restricts access to some components (e.g., using private attributes with __).\n",
        "\n",
        "5. What are dunder methods in Python?\n",
        "    Dunder (double underscore) methods are special methods in Python with names like __init__, __str__, etc. They define how objects behave with built-in operations (e.g., __add__ for + operator).\n",
        "\n",
        "6. Explain the concept of inheritance in OOP.\n",
        "    Inheritance allows a class (child) to inherit attributes and methods from another class (parent), promoting code reuse. For example, a Dog class can inherit from an Animal class.\n",
        "\n",
        "7. What is polymorphism in OOP?\n",
        "    Polymorphism allows different classes to be treated as instances of the same base class, typically through method overriding, enabling different behaviors for the same method call.\n",
        "\n",
        "8. How is encapsulation achieved in Python?\n",
        "    Encapsulation is achieved using private attributes (e.g., __balance) and methods, accessible only within the class. Public and protected members can also be defined using single underscores (_) or no prefix.\n",
        "\n",
        "9. What is a constructor in Python?\n",
        "    A constructor is the __init__ method in a class, automatically called when an object is created. It initializes the object’s attributes.\n",
        "\n",
        "10. What are class and static methods in Python?\n",
        "\n",
        "    Class methods: Defined with @classmethod, take cls as the first parameter, and operate on the class itself.\n",
        "\n",
        "    Static methods: Defined with @staticmethod, don’t take self or cls, and behave like regular functions within a class.\n",
        "\n",
        "11. What is method overloading in Python?\n",
        "    Python does not support traditional method overloading (same method name with different parameters). Instead, you can use default arguments or variable-length arguments (*args, **kwargs) to mimic it.\n",
        "\n",
        "12. What is method overriding in OOP?\n",
        "    Method overriding occurs when a child class redefines a method inherited from a parent class, providing a specific implementation for the child class.\n",
        "\n",
        "13. What is a property decorator in Python?\n",
        "    The @property decorator allows a method to be accessed like an attribute, providing getter, setter, and deleter functionality for controlled access to private attributes.\n",
        "\n",
        "14. Why is polymorphism important in OOP?\n",
        "    Polymorphism enhances flexibility and extensibility by allowing different classes to implement the same method differently, enabling generic code that works with multiple object types.\n",
        "\n",
        "15. What is an abstract class in Python?\n",
        "    An abstract class is a class that cannot be instantiated and is meant to be subclassed. It often contains abstract methods (defined with @abstractmethod) that must be implemented by subclasses.\n",
        "\n",
        "16. What are the advantages of OOP?\n",
        "\n",
        "    Modularity for easier maintenance.\n",
        "\n",
        "    Reusability through inheritance.\n",
        "\n",
        "    Flexibility via polymorphism.\n",
        "\n",
        "    Data security through encapsulation.\n",
        "\n",
        "    Simplified complex problems via abstraction.\n",
        "\n",
        "17. What is the difference between a class variable and an instance variable?\n",
        "\n",
        "    Class variable: Shared across all instances of a class, defined outside __init__.\n",
        "\n",
        "    Instance variable: Unique to each instance, defined within __init__ using self.\n",
        "\n",
        "18. What is multiple inheritance in Python?\n",
        "    Multiple inheritance allows a class to inherit from multiple parent classes, combining their attributes and methods. Python resolves method calls using the Method Resolution Order (MRO).\n",
        "\n",
        "19. Explain the purpose of __str__ and __repr__ methods in Python.\n",
        "\n",
        "    __str__: Returns a user-friendly string representation of an object, used by print().\n",
        "\n",
        "    __repr__: Returns a detailed string representation, often for debugging, used by repr().\n",
        "\n",
        "20. What is the significance of the super() function in Python?\n",
        "    The super() function allows a child class to call methods from its parent class, commonly used in __init__ to initialize the parent’s attributes.\n",
        "\n",
        "21. What is the significance of the __del__ method in Python?\n",
        "    The __del__ method is a destructor, called when an object is about to be destroyed by the garbage collector, used to clean up resources (e.g., closing files).\n",
        "\n",
        "22. What is the difference between @staticmethod and @classmethod in Python?\n",
        "\n",
        "    @staticmethod: Doesn’t take self or cls, behaves like a regular function but belongs to the class namespace.\n",
        "\n",
        "    @classmethod: Takes cls as the first parameter, can access and modify class state.\n",
        "\n",
        "23. How does polymorphism work in Python with inheritance?\n",
        "    Polymorphism in Python with inheritance allows child classes to override parent class methods. When a method is called on a base class reference pointing to a child class object, the child’s method is executed.\n",
        "\n",
        "24. What is method chaining in Python OOP?\n",
        "    Method chaining allows multiple method calls on the same object in a single line, achieved by having methods return self (e.g., obj.method1().method2()).\n",
        "\n",
        "25. What is the purpose of the __call__ method in Python?\n",
        "    The __call__ method makes an object callable like a function. Defining __call__ allows an instance to be invoked with instance()."
      ],
      "metadata": {
        "id": "oaKlXmCiA476"
      }
    },
    {
      "cell_type": "code",
      "execution_count": null,
      "metadata": {
        "colab": {
          "base_uri": "https://localhost:8080/"
        },
        "id": "KYdb75tFPD27",
        "outputId": "7ee79208-60bb-4068-deba-cf427bcf68e5"
      },
      "outputs": [
        {
          "output_type": "stream",
          "name": "stdout",
          "text": [
            "Generic animal sound\n",
            "Bark!\n"
          ]
        }
      ],
      "source": [
        "1.\n",
        "class Animal:\n",
        "    def speak(self):\n",
        "        print(\"Generic animal sound\")\n",
        "\n",
        "class Dog(Animal):\n",
        "    def speak(self):\n",
        "        print(\"Bark!\")\n",
        "\n",
        "if __name__ == \"__main__\":\n",
        "    animal = Animal()\n",
        "    dog = Dog()\n",
        "    animal.speak()\n",
        "    dog.speak()\n"
      ]
    },
    {
      "cell_type": "code",
      "source": [],
      "metadata": {
        "id": "WSKN3DfCTyxY"
      },
      "execution_count": null,
      "outputs": []
    },
    {
      "cell_type": "code",
      "source": [
        "2.\n",
        "from abc import ABC, abstractmethod\n",
        "import math\n",
        "\n",
        "class Shape(ABC):\n",
        "    @abstractmethod\n",
        "    def area(self):\n",
        "        pass\n",
        "\n",
        "class Circle(Shape):\n",
        "    def __init__(self, radius):\n",
        "        self.radius = radius\n",
        "\n",
        "    def area(self):\n",
        "        return math.pi * self.radius ** 2\n",
        "\n",
        "class Rectangle(Shape):\n",
        "    def __init__(self, width, height):\n",
        "        self.width = width\n",
        "        self.height = height\n",
        "\n",
        "    def area(self):\n",
        "        return self.width * self.height\n",
        "\n",
        "if __name__ == \"__main__\":\n",
        "    circle = Circle(5)\n",
        "    rectangle = Rectangle(4, 6)\n",
        "    print(f\"Circle area: {circle.area():.2f}\")\n",
        "    print(f\"Rectangle area: {rectangle.area()}\")"
      ],
      "metadata": {
        "colab": {
          "base_uri": "https://localhost:8080/"
        },
        "id": "tPi_mK7NTllG",
        "outputId": "236fb2b0-c11d-41e1-ceb6-fb50ecd3d0fd"
      },
      "execution_count": null,
      "outputs": [
        {
          "output_type": "stream",
          "name": "stdout",
          "text": [
            "Circle area: 78.54\n",
            "Rectangle area: 24\n"
          ]
        }
      ]
    },
    {
      "cell_type": "code",
      "source": [
        "3.\n",
        "class Vehicle:\n",
        "    def __init__(self, type):\n",
        "        self.type = type\n",
        "\n",
        "class Car(Vehicle):\n",
        "    def __init__(self, type):\n",
        "        super().__init__(type)\n",
        "\n",
        "class ElectricCar(Car):\n",
        "    def __init__(self, type, battery):\n",
        "        super().__init__(type)\n",
        "        self.battery = battery\n",
        "\n",
        "if __name__ == \"__main__\":\n",
        "    vehicle = Vehicle(\"Generic\")\n",
        "    car = Car(\"Sedan\")\n",
        "    electric_car = ElectricCar(\"Electric\", \"100 kWh\")\n",
        "    print(f\"Vehicle type: {vehicle.type}\")\n",
        "    print(f\"Car type: {car.type}\")\n",
        "    print(f\"ElectricCar type: {electric_car.type}, Battery: {electric_car.battery}\")"
      ],
      "metadata": {
        "colab": {
          "base_uri": "https://localhost:8080/"
        },
        "id": "L36W7Yk7UrKe",
        "outputId": "bcc9ffdf-2451-4b83-9df9-cdd7fb36a12c"
      },
      "execution_count": null,
      "outputs": [
        {
          "output_type": "stream",
          "name": "stdout",
          "text": [
            "Vehicle type: Generic\n",
            "Car type: Sedan\n",
            "ElectricCar type: Electric, Battery: 100 kWh\n"
          ]
        }
      ]
    },
    {
      "cell_type": "code",
      "source": [
        "4.\n",
        "class Bird:\n",
        "    def fly(self):\n",
        "        print(\"Bird is flying\")\n",
        "\n",
        "class Sparrow(Bird):\n",
        "    def fly(self):\n",
        "        print(\"Sparrow soars gracefully\")\n",
        "\n",
        "class Penguin(Bird):\n",
        "    def fly(self):\n",
        "        print(\"Penguin cannot fly, but waddles\")\n",
        "\n",
        "if __name__ == \"__main__\":\n",
        "    birds = [Bird(), Sparrow(), Penguin()]\n",
        "    for bird in birds:\n",
        "        bird.fly()\n"
      ],
      "metadata": {
        "colab": {
          "base_uri": "https://localhost:8080/"
        },
        "id": "5Jkcfed5UxZA",
        "outputId": "bf5d5942-a8e9-4568-cc00-d8b3bc50771f"
      },
      "execution_count": null,
      "outputs": [
        {
          "output_type": "stream",
          "name": "stdout",
          "text": [
            "Bird is flying\n",
            "Sparrow soars gracefully\n",
            "Penguin cannot fly, but waddles\n"
          ]
        }
      ]
    },
    {
      "cell_type": "code",
      "source": [
        "5.\n",
        "class BankAccount:\n",
        "    def __init__(self, balance):\n",
        "        self.__balance = balance\n",
        "\n",
        "    def deposit(self, amount):\n",
        "        if amount > 0:\n",
        "            self.__balance += amount\n",
        "            return True\n",
        "        return False\n",
        "\n",
        "    def withdraw(self, amount):\n",
        "        if amount > 0 and self.__balance >= amount:\n",
        "            self.__balance -= amount\n",
        "            return True\n",
        "        return False\n",
        "\n",
        "    def check_balance(self):\n",
        "        return self.__balance\n",
        "\n",
        "if __name__ == \"__main__\":\n",
        "    account = BankAccount(1000)\n",
        "    account.deposit(500)\n",
        "    print(f\"Balance after deposit: {account.check_balance()}\")\n",
        "    account.withdraw(200)\n",
        "    print(f\"Balance after withdrawal: {account.check_balance()}\")\n",
        "    account.withdraw(2000)  # Fails silently\n",
        "    print(f\"Final balance: {account.check_balance()}\")"
      ],
      "metadata": {
        "colab": {
          "base_uri": "https://localhost:8080/"
        },
        "id": "Fe9JXcEWU71H",
        "outputId": "fa4f46b8-8bdb-420e-be16-0b7a804be804"
      },
      "execution_count": null,
      "outputs": [
        {
          "output_type": "stream",
          "name": "stdout",
          "text": [
            "Balance after deposit: 1500\n",
            "Balance after withdrawal: 1300\n",
            "Final balance: 1300\n"
          ]
        }
      ]
    },
    {
      "cell_type": "code",
      "source": [
        "6.\n",
        "class Instrument:\n",
        "    def play(self):\n",
        "        print(\"Playing an instrument\")\n",
        "\n",
        "class Guitar(Instrument):\n",
        "    def play(self):\n",
        "        print(\"Strumming the guitar\")\n",
        "\n",
        "class Piano(Instrument):\n",
        "    def play(self):\n",
        "        print(\"Playing the piano keys\")\n",
        "\n",
        "if __name__ == \"__main__\":\n",
        "    instruments = [Instrument(), Guitar(), Piano()]\n",
        "    for instrument in instruments:\n",
        "        instrument.play()"
      ],
      "metadata": {
        "colab": {
          "base_uri": "https://localhost:8080/"
        },
        "id": "9k8Kp9qJVBcv",
        "outputId": "14993502-0b2f-48c7-abde-16e6222df267"
      },
      "execution_count": null,
      "outputs": [
        {
          "output_type": "stream",
          "name": "stdout",
          "text": [
            "Playing an instrument\n",
            "Strumming the guitar\n",
            "Playing the piano keys\n"
          ]
        }
      ]
    },
    {
      "cell_type": "code",
      "source": [
        "7.\n",
        "class MathOperations:\n",
        "    @classmethod\n",
        "    def add_numbers(cls, a, b):\n",
        "        return a + b\n",
        "\n",
        "    @staticmethod\n",
        "    def subtract_numbers(a, b):\n",
        "        return a - b\n",
        "\n",
        "if __name__ == \"__main__\":\n",
        "    print(f\"Add: {MathOperations.add_numbers(10, 5)}\")\n",
        "    print(f\"Subtract: {MathOperations.subtract_numbers(10, 5)}\")"
      ],
      "metadata": {
        "colab": {
          "base_uri": "https://localhost:8080/"
        },
        "id": "1540IZWLVHJv",
        "outputId": "41159bae-5741-4e90-e0c2-678ad04adb5d"
      },
      "execution_count": null,
      "outputs": [
        {
          "output_type": "stream",
          "name": "stdout",
          "text": [
            "Add: 15\n",
            "Subtract: 5\n"
          ]
        }
      ]
    },
    {
      "cell_type": "code",
      "source": [
        "8.\n",
        "class Person:\n",
        "    _count = 0\n",
        "\n",
        "    def __init__(self):\n",
        "        Person._count += 1\n",
        "\n",
        "    @classmethod\n",
        "    def get_count(cls):\n",
        "        return cls._count\n",
        "\n",
        "if __name__ == \"__main__\":\n",
        "    p1 = Person()\n",
        "    p2 = Person()\n",
        "    p3 = Person()\n",
        "    print(f\"Total persons created: {Person.get_count()}\")"
      ],
      "metadata": {
        "colab": {
          "base_uri": "https://localhost:8080/"
        },
        "id": "EBvr-OTTVLtS",
        "outputId": "fb51204f-09e0-4060-dedc-1ba0d5c301ac"
      },
      "execution_count": null,
      "outputs": [
        {
          "output_type": "stream",
          "name": "stdout",
          "text": [
            "Total persons created: 3\n"
          ]
        }
      ]
    },
    {
      "cell_type": "code",
      "source": [
        "9.\n",
        "class Fraction:\n",
        "    def __init__(self, numerator, denominator):\n",
        "        self.numerator = numerator\n",
        "        self.denominator = denominator\n",
        "\n",
        "    def __str__(self):\n",
        "        return f\"{self.numerator}/{self.denominator}\"\n",
        "\n",
        "if __name__ == \"__main__\":\n",
        "    fraction = Fraction(3, 4)\n",
        "    print(fraction)"
      ],
      "metadata": {
        "colab": {
          "base_uri": "https://localhost:8080/"
        },
        "id": "hPK6m6LZVRqI",
        "outputId": "2dcdfa51-08b6-48a2-bc6e-85451baa4f11"
      },
      "execution_count": null,
      "outputs": [
        {
          "output_type": "stream",
          "name": "stdout",
          "text": [
            "3/4\n"
          ]
        }
      ]
    },
    {
      "cell_type": "code",
      "source": [
        "10.\n",
        "class Vector:\n",
        "    def __init__(self, x, y):\n",
        "        self.x = x\n",
        "        self.y = y\n",
        "\n",
        "    def __add__(self, other):\n",
        "        return Vector(self.x + other.x, self.y + other.y)\n",
        "\n",
        "    def __str__(self):\n",
        "        return f\"Vector({self.x}, {self.y})\"\n",
        "\n",
        "if __name__ == \"__main__\":\n",
        "    v1 = Vector(1, 2)\n",
        "    v2 = Vector(3, 4)\n",
        "    v3 = v1 + v2\n",
        "    print(v3)"
      ],
      "metadata": {
        "colab": {
          "base_uri": "https://localhost:8080/"
        },
        "id": "RVJqrJl2VUuD",
        "outputId": "bb586067-3259-4465-fccf-07c4923a3cf7"
      },
      "execution_count": null,
      "outputs": [
        {
          "output_type": "stream",
          "name": "stdout",
          "text": [
            "Vector(4, 6)\n"
          ]
        }
      ]
    },
    {
      "cell_type": "code",
      "source": [
        "11.\n",
        "class Person:\n",
        "    def __init__(self, name, age):\n",
        "        self.name = name\n",
        "        self.age = age\n",
        "\n",
        "    def greet(self):\n",
        "        print(f\"Hello, my name is {self.name} and I am {self.age} years old.\")\n",
        "\n",
        "if __name__ == \"__main__\":\n",
        "    person = Person(\"Allu\", 26)\n",
        "    person.greet()"
      ],
      "metadata": {
        "colab": {
          "base_uri": "https://localhost:8080/"
        },
        "id": "XysAdshlVYYP",
        "outputId": "216899ec-2677-47cb-8a51-812f42a32b25"
      },
      "execution_count": null,
      "outputs": [
        {
          "output_type": "stream",
          "name": "stdout",
          "text": [
            "Hello, my name is Allu and I am 26 years old.\n"
          ]
        }
      ]
    },
    {
      "cell_type": "code",
      "source": [
        "12.\n",
        "class Student:\n",
        "    def __init__(self, name, grades):\n",
        "        self.name = name\n",
        "        self.grades = grades\n",
        "\n",
        "    def average_grade(self):\n",
        "        return sum(self.grades) / len(self.grades) if self.grades else 0\n",
        "\n",
        "if __name__ == \"__main__\":\n",
        "    student = Student(\"Lala\", [85, 90, 95])\n",
        "    print(f\"Average grade for {student.name}: {student.average_grade()}\")\n"
      ],
      "metadata": {
        "colab": {
          "base_uri": "https://localhost:8080/"
        },
        "id": "3ZEaI0voVeOT",
        "outputId": "65b81e11-4a5e-4bb3-a763-3f75389e74da"
      },
      "execution_count": null,
      "outputs": [
        {
          "output_type": "stream",
          "name": "stdout",
          "text": [
            "Average grade for Lala: 90.0\n"
          ]
        }
      ]
    },
    {
      "cell_type": "code",
      "source": [
        "13.\n",
        "class Rectangle:\n",
        "    def __init__(self):\n",
        "        self.width = 0\n",
        "        self.height = 0\n",
        "\n",
        "    def setDimensions(self, width, height):\n",
        "        self.width = width\n",
        "        self.height = height\n",
        "\n",
        "    def area(self):\n",
        "        return self.width * self.height\n",
        "\n",
        "if __name__ == \"__main__\":\n",
        "    rectangle = Rectangle()\n",
        "    rectangle.setDimensions(5, 10)\n",
        "    print(f\"Rectangle area: {rectangle.area()}\")"
      ],
      "metadata": {
        "colab": {
          "base_uri": "https://localhost:8080/"
        },
        "id": "qpHyYN8SVj-0",
        "outputId": "cc582cf9-ffa0-4e7b-e9ae-47bd861ee766"
      },
      "execution_count": null,
      "outputs": [
        {
          "output_type": "stream",
          "name": "stdout",
          "text": [
            "Rectangle area: 50\n"
          ]
        }
      ]
    },
    {
      "cell_type": "code",
      "source": [
        "14.\n",
        "class Employee:\n",
        "    def __init__(self, hours_worked, hourly_rate):\n",
        "        self.hours_worked = hours_worked\n",
        "        self.hourly_rate = hourly_rate\n",
        "\n",
        "    def calculate_salary(self):\n",
        "        return self.hours_worked * self.hourly_rate\n",
        "\n",
        "class Manager(Employee):\n",
        "    def __init__(self, hours_worked, hourly_rate, bonus):\n",
        "        super().__init__(hours_worked, hourly_rate)\n",
        "        self.bonus = bonus\n",
        "\n",
        "    def calculate_salary(self):\n",
        "        return super().calculate_salary() + self.bonus\n",
        "\n",
        "if __name__ == \"__main__\":\n",
        "    employee = Employee(40, 20)\n",
        "    manager = Manager(40, 20, 1000)\n",
        "    print(f\"Employee salary: ${employee.calculate_salary()}\")\n",
        "    print(f\"Manager salary: ${manager.calculate_salary()}\")"
      ],
      "metadata": {
        "colab": {
          "base_uri": "https://localhost:8080/"
        },
        "id": "R9FXBPk0Vryd",
        "outputId": "7b9094f7-5461-495a-d983-4e8daabcb6e8"
      },
      "execution_count": null,
      "outputs": [
        {
          "output_type": "stream",
          "name": "stdout",
          "text": [
            "Employee salary: $800\n",
            "Manager salary: $1800\n"
          ]
        }
      ]
    },
    {
      "cell_type": "code",
      "source": [
        "15.\n",
        "class Product:\n",
        "    def __init__(self, name, price, quantity):\n",
        "        self.name = name\n",
        "        self.price = price\n",
        "        self.quantity = quantity\n",
        "\n",
        "    def total_price(self):\n",
        "        return self.price * self.quantity\n",
        "\n",
        "if __name__ == \"__main__\":\n",
        "    product = Product(\"Laptop\", 1000, 3)\n",
        "    print(f\"Total price for {product.name}: ${product.total_price()}\")"
      ],
      "metadata": {
        "colab": {
          "base_uri": "https://localhost:8080/"
        },
        "id": "Qhpj4VbxVxoM",
        "outputId": "77fc0489-0661-48c1-f93f-0d815a46c3a6"
      },
      "execution_count": null,
      "outputs": [
        {
          "output_type": "stream",
          "name": "stdout",
          "text": [
            "Total price for Laptop: $3000\n"
          ]
        }
      ]
    },
    {
      "cell_type": "code",
      "source": [
        "16.\n",
        "from abc import ABC, abstractmethod\n",
        "\n",
        "class Animal(ABC):\n",
        "    @abstractmethod\n",
        "    def sound(self):\n",
        "        pass\n",
        "\n",
        "class Cow(Animal):\n",
        "    def sound(self):\n",
        "        print(\"boom!\")\n",
        "\n",
        "class Sheep(Animal):\n",
        "    def sound(self):\n",
        "        print(\"baam!\")\n",
        "\n",
        "if __name__ == \"__main__\":\n",
        "    cow = Cow()\n",
        "    sheep = Sheep()\n",
        "    cow.sound()\n",
        "    sheep.sound()"
      ],
      "metadata": {
        "colab": {
          "base_uri": "https://localhost:8080/"
        },
        "id": "9ayvkl3BV1Yp",
        "outputId": "ab088347-5ea5-42bd-992f-1306a769d668"
      },
      "execution_count": null,
      "outputs": [
        {
          "output_type": "stream",
          "name": "stdout",
          "text": [
            "boom!\n",
            "baam!\n"
          ]
        }
      ]
    },
    {
      "cell_type": "code",
      "source": [
        "17.\n",
        "class Book:\n",
        "    def __init__(self, title, author, year_published):\n",
        "        self.title = title\n",
        "        self.author = author\n",
        "        self.year_published = year_published\n",
        "\n",
        "    def get_book_info(self):\n",
        "        return f\"{self.title} by {self.author}, published in {self.year_published}\"\n",
        "\n",
        "if __name__ == \"__main__\":\n",
        "    book = Book(\"sangharsha\", \"Acharya Prashant\", 2022)\n",
        "    print(book.get_book_info())"
      ],
      "metadata": {
        "colab": {
          "base_uri": "https://localhost:8080/"
        },
        "id": "APEr8Q5uWDU-",
        "outputId": "e31483e0-c409-4ecd-d4f8-5bcf6f01a3a9"
      },
      "execution_count": null,
      "outputs": [
        {
          "output_type": "stream",
          "name": "stdout",
          "text": [
            "sangharsha by Acharya Prashant, published in 2022\n"
          ]
        }
      ]
    },
    {
      "cell_type": "code",
      "source": [
        "18.\n",
        "class House:\n",
        "    def __init__(self, address, price):\n",
        "        self.address = address\n",
        "        self.price = price\n",
        "\n",
        "class Mansion(House):\n",
        "    def __init__(self, address, price, number_of_rooms):\n",
        "        super().__init__(address, price)\n",
        "        self.number_of_rooms = number_of_rooms\n",
        "\n",
        "if __name__ == \"__main__\":\n",
        "    house = House(\"123 Road to heaven\", 200000)\n",
        "    mansion = Mansion(\"456 Dalal street\", 1000000, 10)\n",
        "    print(f\"House: {house.address}, Price: ${house.price}\")\n",
        "    print(f\"Mansion: {mansion.address}, Price: ${mansion.price}, Rooms: {mansion.number_of_rooms}\")"
      ],
      "metadata": {
        "colab": {
          "base_uri": "https://localhost:8080/"
        },
        "id": "DgUN0_caWcnI",
        "outputId": "b28e2c3d-0e66-42c3-eeb0-627c6abaf88a"
      },
      "execution_count": null,
      "outputs": [
        {
          "output_type": "stream",
          "name": "stdout",
          "text": [
            "House: 123 Road to heaven, Price: $200000\n",
            "Mansion: 456 Dalal street, Price: $1000000, Rooms: 10\n"
          ]
        }
      ]
    },
    {
      "cell_type": "code",
      "source": [],
      "metadata": {
        "id": "xEKa0ex9Wid4"
      },
      "execution_count": null,
      "outputs": []
    }
  ]
}