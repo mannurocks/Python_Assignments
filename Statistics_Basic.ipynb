{
  "nbformat": 4,
  "nbformat_minor": 0,
  "metadata": {
    "colab": {
      "provenance": []
    },
    "kernelspec": {
      "name": "python3",
      "display_name": "Python 3"
    },
    "language_info": {
      "name": "python"
    }
  },
  "cells": [
    {
      "cell_type": "code",
      "execution_count": null,
      "metadata": {
        "id": "8iMzccNn1_Fj"
      },
      "outputs": [],
      "source": [
        "# 1: Difference between Descriptive Statistics and Inferential Statistics\n",
        "\n",
        "# Descriptive Statistics: Summarizes and organizes data to describe its main features. It doesn’t make predictions or generalizations beyond the data at hand.\n",
        "# Example: Calculating the average height of students in a class.\n",
        "\n",
        "# Inferential Statistics: Uses sample data to make inferences or predictions about a larger population. It involves probability theory.\n",
        "# Example: Predicting the average height of all students in a country from a sample.\n",
        "\n",
        "# 2: Sampling in Statistics\n",
        "\n",
        "# Sampling: The process of selecting a subset of individuals from a population to estimate characteristics of the whole population.\n",
        "\n",
        "# Random Sampling: Every member of the population has an equal chance of being selected.\n",
        "# Example: Drawing names from a hat.\n",
        "\n",
        "# Stratified Sampling: The population is divided into strata (groups) based on a characteristic, and random samples are taken from each group.\n",
        "# Example: Sampling students separately from each grade level.\n",
        "\n",
        "# 3: Mean, Median, and Mode\n",
        "\n",
        "# Mean: The arithmetic average of all values.\n",
        "\n",
        "# Median: The middle value when data is sorted.\n",
        "\n",
        "# Mode: The most frequently occurring value(s).\n",
        "# These are important because they measure central tendency, helping to understand where most of the data is centered.\n",
        "\n",
        "# 4: Skewness and Kurtosis\n",
        "\n",
        "# Skewness: Measures asymmetry of data distribution.\n",
        "\n",
        "# Positive skew → Tail on the right side; most values are concentrated on the left.\n",
        "\n",
        "# Kurtosis: Measures the \"tailedness\" of a distribution.\n",
        "\n",
        "# High kurtosis → More outliers; low kurtosis → fewer extreme values."
      ]
    },
    {
      "cell_type": "code",
      "source": [
        "# 5: Python code for Mean, Median, and Mode\n",
        "import statistics as stats\n",
        "\n",
        "numbers = [12, 15, 12, 18, 19, 12, 20, 22, 19, 19, 24, 24, 24, 26, 28]\n",
        "\n",
        "mean_val = stats.mean(numbers)\n",
        "median_val = stats.median(numbers)\n",
        "mode_val = stats.mode(numbers)\n",
        "\n",
        "print(\"Mean:\", mean_val)\n",
        "print(\"Median:\", median_val)\n",
        "print(\"Mode:\", mode_val)\n"
      ],
      "metadata": {
        "id": "yml6cPYo3UDt"
      },
      "execution_count": null,
      "outputs": []
    },
    {
      "cell_type": "code",
      "source": [
        "# 6: Covariance and Correlation\n",
        "import numpy as np\n",
        "\n",
        "list_x = [10, 20, 30, 40, 50]\n",
        "list_y = [15, 25, 35, 45, 60]\n",
        "\n",
        "cov_matrix = np.cov(list_x, list_y, bias=False)\n",
        "covariance = cov_matrix[0, 1]\n",
        "correlation = np.corrcoef(list_x, list_y)[0, 1]\n",
        "\n",
        "print(\"Covariance:\", covariance)\n",
        "print(\"Correlation Coefficient:\", correlation)\n"
      ],
      "metadata": {
        "id": "JjlOsOiy3cXt"
      },
      "execution_count": null,
      "outputs": []
    },
    {
      "cell_type": "code",
      "source": [
        "# 7:Boxplot and Outliers\n",
        "import matplotlib.pyplot as plt\n",
        "\n",
        "data = [12, 14, 14, 15, 18, 19, 19, 21, 22, 22, 23, 23, 24, 26, 29, 35]\n",
        "\n",
        "plt.boxplot(data)\n",
        "plt.title(\"Boxplot\")\n",
        "plt.show()\n"
      ],
      "metadata": {
        "id": "4qlFQqqv3j2F"
      },
      "execution_count": null,
      "outputs": []
    },
    {
      "cell_type": "code",
      "source": [
        "# 8: Advertising Spend vs Daily Sales\n",
        "advertising_spend = [200, 250, 300, 400, 500]\n",
        "daily_sales = [2200, 2450, 2750, 3200, 4000]\n",
        "\n",
        "corr = np.corrcoef(advertising_spend, daily_sales)[0, 1]\n",
        "print(\"Correlation:\", corr)\n"
      ],
      "metadata": {
        "id": "jTH42IDQ3p2s"
      },
      "execution_count": null,
      "outputs": []
    },
    {
      "cell_type": "code",
      "source": [
        "# 9: Customer Satisfaction Survey\n",
        "survey_scores = [7, 8, 5, 9, 6, 7, 8, 9, 10, 4, 7, 6, 9, 8, 7]\n",
        "\n",
        "print(\"Mean:\", np.mean(survey_scores))\n",
        "print(\"Median:\", np.median(survey_scores))\n",
        "print(\"Standard Deviation:\", np.std(survey_scores))\n",
        "\n",
        "plt.hist(survey_scores, bins=6, edgecolor='black')\n",
        "plt.title(\"Customer Satisfaction Scores\")\n",
        "plt.xlabel(\"Score\")\n",
        "plt.ylabel(\"Frequency\")\n",
        "plt.show()\n"
      ],
      "metadata": {
        "id": "Xxq6xxSL3y2_"
      },
      "execution_count": null,
      "outputs": []
    }
  ]
}