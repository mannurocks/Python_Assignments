{
  "nbformat": 4,
  "nbformat_minor": 0,
  "metadata": {
    "colab": {
      "provenance": []
    },
    "kernelspec": {
      "name": "python3",
      "display_name": "Python 3"
    },
    "language_info": {
      "name": "python"
    }
  },
  "cells": [
    {
      "cell_type": "markdown",
      "source": [
        "\n",
        "\n",
        "1. Difference between a function and a method in Python.\n",
        "\n",
        "Function: Independent block of code.\n",
        "\n",
        "Method: Function associated with an object/class.\n",
        "\n",
        "2. Concept of function arguments and parameters in Python.\n",
        "\n",
        "Parameters: Variables in function definition.\n",
        "\n",
        "Arguments: Actual values passed when calling the function.\n",
        "\n",
        "3. Different ways to define and call a function in Python.\n",
        "\n",
        "Using def\n",
        "\n",
        "Using lambda\n",
        "\n",
        "Nested functions\n",
        "\n",
        "With default or variable-length arguments\n",
        "\n",
        "4. Purpose of the return statement in a Python function.\n",
        "Returns value to the caller and ends function execution.\n",
        "\n",
        "5. Iterators vs. Iterables in Python.\n",
        "\n",
        "Iterable: Can be looped over (e.g., list).\n",
        "\n",
        "Iterator: Has __next__() and __iter__() methods to get elements one at a time.\n",
        "\n",
        "6. Concept of generators in Python and how they are defined.\n",
        "Generators use yield instead of return. They generate values lazily.\n",
        "\n",
        "7. Advantages of using generators over regular functions.\n",
        "\n",
        "Memory-efficient\n",
        "\n",
        "Lazy evaluation\n",
        "\n",
        "Can handle infinite sequences\n",
        "\n",
        "8. Lambda function in Python and typical use cases.\n",
        "Anonymous function for short operations, often used with map(), filter().\n",
        "\n",
        "9. Purpose and usage of the map() function in Python.\n",
        "Applies a function to each item in an iterable, returns the transformed result.\n",
        "\n",
        "10. Difference between map(), reduce(), and filter() in Python.\n",
        "\n",
        "map(): Applies function to all items\n",
        "\n",
        "reduce(): Applies function cumulatively (requires functools)\n",
        "\n",
        "filter(): Filters items based on condition\n",
        "\n"
      ],
      "metadata": {
        "id": "L54e4-72GUW5"
      }
    },
    {
      "cell_type": "code",
      "execution_count": null,
      "metadata": {
        "colab": {
          "base_uri": "https://localhost:8080/"
        },
        "id": "y-ro8T2ROrqV",
        "outputId": "6b6e09ed-3679-47a9-df95-3c2e008af452"
      },
      "outputs": [
        {
          "output_type": "stream",
          "name": "stdout",
          "text": [
            "12\n"
          ]
        }
      ],
      "source": [
        "# 1\n",
        "def sum_even(numbers):\n",
        "    return sum(num for num in numbers if num % 2 == 0)\n",
        "\n",
        "# Example\n",
        "numbers = [1, 2, 3, 4, 5, 6]\n",
        "print(sum_even(numbers))  # Output: 12 (2 + 4 + 6)"
      ]
    },
    {
      "cell_type": "code",
      "source": [
        "# 2\n",
        "def reverse_string(s):\n",
        "    return s[::-1]\n",
        "\n",
        "# Example\n",
        "text = \"Hello\"\n",
        "print(reverse_string(text))  # Output: olleH"
      ],
      "metadata": {
        "colab": {
          "base_uri": "https://localhost:8080/"
        },
        "id": "2k95Zb5Bfd84",
        "outputId": "2fbd51c5-e39a-43ae-e51f-338273a4e3ae"
      },
      "execution_count": null,
      "outputs": [
        {
          "output_type": "stream",
          "name": "stdout",
          "text": [
            "olleH\n"
          ]
        }
      ]
    },
    {
      "cell_type": "code",
      "source": [
        "# 3\n",
        "def square_list(numbers):\n",
        "    return [num * num for num in numbers]\n",
        "\n",
        "# Example\n",
        "numbers = [1, 2, 3, 4]\n",
        "print(square_list(numbers))  # Output: [1, 4, 9, 16]"
      ],
      "metadata": {
        "colab": {
          "base_uri": "https://localhost:8080/"
        },
        "id": "SopTIw8_fnMN",
        "outputId": "28fd5d44-3951-4e2b-c372-2d2b489b5a25"
      },
      "execution_count": null,
      "outputs": [
        {
          "output_type": "stream",
          "name": "stdout",
          "text": [
            "[1, 4, 9, 16]\n"
          ]
        }
      ]
    },
    {
      "cell_type": "code",
      "source": [
        "# 4\n",
        "def is_prime(n):\n",
        "    if n < 2:\n",
        "        return False\n",
        "    for i in range(2, int(n ** 0.5) + 1):\n",
        "        if n % i == 0:\n",
        "            return False\n",
        "    return True\n",
        "\n",
        "# Example\n",
        "print(is_prime(17))  # Output: True\n",
        "print(is_prime(4))   # Output: False"
      ],
      "metadata": {
        "colab": {
          "base_uri": "https://localhost:8080/"
        },
        "id": "WM_4Y-Oafq88",
        "outputId": "9e01fa63-0fc1-4e82-8d84-0e1f8c65e8a9"
      },
      "execution_count": null,
      "outputs": [
        {
          "output_type": "stream",
          "name": "stdout",
          "text": [
            "True\n",
            "False\n"
          ]
        }
      ]
    },
    {
      "cell_type": "code",
      "source": [
        "# 5\n",
        "class FibonacciIterator:\n",
        "    def __init__(self, n):\n",
        "        self.n = n\n",
        "        self.current = 0\n",
        "        self.a, self.b = 0, 1\n",
        "\n",
        "    def __iter__(self):\n",
        "        return self\n",
        "\n",
        "    def __next__(self):\n",
        "        if self.current >= self.n:\n",
        "            raise StopIteration\n",
        "        if self.current == 0:\n",
        "            self.current += 1\n",
        "            return 0\n",
        "        self.a, self.b = self.b, self.a + self.b\n",
        "        self.current += 1\n",
        "        return self.a\n",
        "\n",
        "# Example\n",
        "fib = FibonacciIterator(5)\n",
        "print(list(fib))  # Output: [0, 1, 1, 2, 3]"
      ],
      "metadata": {
        "colab": {
          "base_uri": "https://localhost:8080/"
        },
        "id": "3zjS2KQTfxtI",
        "outputId": "cbf437d4-188a-4a40-88fe-55b4ec80375a"
      },
      "execution_count": null,
      "outputs": [
        {
          "output_type": "stream",
          "name": "stdout",
          "text": [
            "[0, 1, 1, 2, 3]\n"
          ]
        }
      ]
    },
    {
      "cell_type": "code",
      "source": [
        "# 6\n",
        "def powers_of_two(exponent):\n",
        "    for i in range(exponent + 1):\n",
        "        yield 2 ** i\n",
        "\n",
        "# Example\n",
        "print(list(powers_of_two(4)))  # Output: [1, 2, 4, 8, 16]"
      ],
      "metadata": {
        "colab": {
          "base_uri": "https://localhost:8080/"
        },
        "id": "nU0l2wHUf1oh",
        "outputId": "6ef30b68-edc5-4397-8f87-3f3c4e05c2c8"
      },
      "execution_count": null,
      "outputs": [
        {
          "output_type": "stream",
          "name": "stdout",
          "text": [
            "[1, 2, 4, 8, 16]\n"
          ]
        }
      ]
    },
    {
      "cell_type": "code",
      "source": [
        "# 7\n",
        "def read_file_lines(file_path):\n",
        "    with open(file_path, 'r') as file:\n",
        "        for line in file:\n",
        "            yield line.strip()\n"
      ],
      "metadata": {
        "id": "rv2VzVv3f5Bb"
      },
      "execution_count": null,
      "outputs": []
    },
    {
      "cell_type": "code",
      "source": [
        "# 8\n",
        "def sort_tuples(tuple_list):\n",
        "    return sorted(tuple_list, key=lambda x: x[1])\n",
        "\n",
        "# Example usage\n",
        "tuples = [(1, 'b'), (2, 'a'), (3, 'c')]\n",
        "print(sort_tuples(tuples))  # Output: [(2, 'a'), (1, 'b'), (3, 'c')]"
      ],
      "metadata": {
        "colab": {
          "base_uri": "https://localhost:8080/"
        },
        "id": "VBs5aO7Hf9LN",
        "outputId": "e14905db-9553-4268-b60f-3ddacc680246"
      },
      "execution_count": null,
      "outputs": [
        {
          "output_type": "stream",
          "name": "stdout",
          "text": [
            "[(2, 'a'), (1, 'b'), (3, 'c')]\n"
          ]
        }
      ]
    },
    {
      "cell_type": "code",
      "source": [
        "# 9\n",
        "def celsius_to_fahrenheit(temps):\n",
        "    return list(map(lambda c: (c * 9/5) + 32, temps))\n",
        "\n",
        "# Example usage\n",
        "temps = [0, 100, 37]\n",
        "print(celsius_to_fahrenheit(temps))  # Output: [32.0, 212.0, 98.6]"
      ],
      "metadata": {
        "colab": {
          "base_uri": "https://localhost:8080/"
        },
        "id": "GF_ZuYUkgMq4",
        "outputId": "5032971c-4225-4b59-c492-d247b8c03fcc"
      },
      "execution_count": null,
      "outputs": [
        {
          "output_type": "stream",
          "name": "stdout",
          "text": [
            "[32.0, 212.0, 98.6]\n"
          ]
        }
      ]
    },
    {
      "cell_type": "code",
      "source": [
        "# 10\n",
        "def remove_vowels(s):\n",
        "    vowels = 'aeiouAEIOU'\n",
        "    return ''.join(filter(lambda c: c not in vowels, s))\n",
        "\n",
        "# Example usage\n",
        "text = \"Hello World\"\n",
        "print(remove_vowels(text))  # Output: Hll Wrld\n"
      ],
      "metadata": {
        "colab": {
          "base_uri": "https://localhost:8080/"
        },
        "id": "WwKZ7LutgRMz",
        "outputId": "c9eef606-9f7a-41f1-eafb-4e01e45cac7c"
      },
      "execution_count": null,
      "outputs": [
        {
          "output_type": "stream",
          "name": "stdout",
          "text": [
            "Hll Wrld\n"
          ]
        }
      ]
    },
    {
      "cell_type": "code",
      "source": [
        "# 11\n",
        "def process_orders(orders):\n",
        "    return list(map(lambda x: (x[0], x[2] * x[3] + (10 if x[2] * x[3] < 100 else 0)), orders))\n",
        "\n",
        "# Example usage\n",
        "orders = [\n",
        "    (34587, \"Introduction to Python, Vikram Sharma\", 4, 40.95),\n",
        "    (98762, \"Data Science with Python, Anjali Rao\", 5, 56.80),\n",
        "    (77226, \"Machine Learning Basics, Priya Desai\", 3, 32.95),\n",
        "    (88112, \"Programming in Hindi, Sanjay Patel\", 3, 24.99)\n",
        "]\n",
        "result = process_orders(orders)\n",
        "print(result)\n",
        "# Output: [(34587, 163.8), (98762, 284.0), (77226, 108.85), (88112, 84.97)]"
      ],
      "metadata": {
        "colab": {
          "base_uri": "https://localhost:8080/"
        },
        "id": "tWsWXFbxgVgx",
        "outputId": "d6ce909d-be4d-45ee-c057-3f52deb049c9"
      },
      "execution_count": null,
      "outputs": [
        {
          "output_type": "stream",
          "name": "stdout",
          "text": [
            "[(34587, 163.8), (98762, 284.0), (77226, 108.85000000000001), (88112, 84.97)]\n"
          ]
        }
      ]
    },
    {
      "cell_type": "code",
      "source": [],
      "metadata": {
        "id": "zAdi3D74gzBR"
      },
      "execution_count": null,
      "outputs": []
    }
  ]
}