{
  "nbformat": 4,
  "nbformat_minor": 0,
  "metadata": {
    "colab": {
      "provenance": []
    },
    "kernelspec": {
      "name": "python3",
      "display_name": "Python 3"
    },
    "language_info": {
      "name": "python"
    }
  },
  "cells": [
    {
      "cell_type": "markdown",
      "source": [
        "\n",
        "\n",
        "1. What are data structures, and why are they important?\n",
        "Data structures are specialized formats for organizing, processing, retrieving, and storing data. They help manage and manipulate data efficiently.\n",
        "\n",
        "2. Explain the difference between mutable and immutable data types with examples.\n",
        "\n",
        "Mutable: Can be changed (e.g., Lists, Dictionaries).\n",
        "\n",
        "Immutable: Cannot be changed (e.g., Strings, Tuples, Numbers).\n",
        "\n",
        "3. What are the main differences between lists and tuples in Python?\n",
        "\n",
        "Lists: Mutable, slower, unhashable.\n",
        "\n",
        "Tuples: Immutable, faster, hashable.\n",
        "\n",
        "4. Describe how dictionaries store data.\n",
        "They store data in key-value pairs. Keys must be unique and immutable, values can be any data type.\n",
        "\n",
        "5. Why might you use a set instead of a list in Python?\n",
        "Sets store unique elements, offer faster lookups, and are good when order doesn’t matter.\n",
        "\n",
        "6. What is a string in Python, and how is it different from a list?\n",
        "\n",
        "String: Immutable, sequence of characters.\n",
        "\n",
        "List: Mutable, can contain different data types.\n",
        "\n",
        "7. How do tuples ensure data integrity in Python?\n",
        "By being immutable—once created, they can’t be altered.\n",
        "\n",
        "8. What is a hash table, and how does it relate to dictionaries in Python?\n",
        "Hash table maps keys to values using a hash function. Python dictionaries are implemented as hash tables.\n",
        "\n",
        "9. Can lists contain different data types in Python?\n",
        "Yes, lists can contain multiple data types.\n",
        "\n",
        "10. Explain why strings are immutable in Python.\n",
        "For performance, memory efficiency, thread safety, and to be used as dictionary keys.\n",
        "\n",
        "11. What advantages do dictionaries offer over lists for certain tasks?\n",
        "Faster lookups, associative key-value storage, and unique identifiers.\n",
        "\n",
        "12. Describe a scenario where using a tuple would be preferable over a list.\n",
        "When you want a fixed collection of values that must not change (e.g., coordinates, config data).\n",
        "\n",
        "13. How do sets handle duplicate values in Python?\n",
        "They discard duplicates automatically.\n",
        "\n",
        "14. How does the “in” keyword work differently for lists and dictionaries?\n",
        "\n",
        "In lists: checks for value.\n",
        "\n",
        "In dictionaries: checks for key.\n",
        "\n",
        "15. Can you modify the elements of a tuple?\n",
        "No, tuples are immutable. Any change creates a new tuple.\n",
        "\n",
        "16. What is a nested dictionary, and give an example of its use case?\n",
        "A dictionary within a dictionary.\n",
        "Use case: Storing student data with subjects and marks.\n",
        "\n",
        "17. Describe the time complexity of accessing elements in a dictionary.\n",
        "\n",
        "Average: O(1)\n",
        "\n",
        "Worst-case (hash collisions): O(n)\n",
        "\n",
        "18. In what situations are lists preferred over dictionaries?\n",
        "When order matters, indexed access is required, and duplicate elements are allowed.\n",
        "\n",
        "19. Why are dictionaries considered unordered?\n",
        "Older versions did not preserve insertion order. Keys are stored based on hash values.\n",
        "\n",
        "20. Explain the difference between a list and a dictionary in terms of data retrieval.\n",
        "\n",
        "List: Retrieved by index.\n",
        "\n",
        "Dictionary: Retrieved by key.\n",
        "\n"
      ],
      "metadata": {
        "id": "eOABiQY7RSyG"
      }
    },
    {
      "cell_type": "code",
      "source": [
        "# 1\n",
        "name = \"manish\"\n",
        "print(name)"
      ],
      "metadata": {
        "colab": {
          "base_uri": "https://localhost:8080/"
        },
        "id": "MfDLhVJXq4ak",
        "outputId": "4c638020-1df6-4b27-954a-26e79d0d5934"
      },
      "execution_count": null,
      "outputs": [
        {
          "output_type": "stream",
          "name": "stdout",
          "text": [
            "manish\n"
          ]
        }
      ]
    },
    {
      "cell_type": "code",
      "source": [
        "#2\n",
        "print(len(\"hello world\"))"
      ],
      "metadata": {
        "colab": {
          "base_uri": "https://localhost:8080/"
        },
        "id": "rchqb7CDHWT3",
        "outputId": "ac47ce3c-9f40-40db-a5c2-2a235201ab0f"
      },
      "execution_count": null,
      "outputs": [
        {
          "output_type": "stream",
          "name": "stdout",
          "text": [
            "11\n"
          ]
        }
      ]
    },
    {
      "cell_type": "code",
      "source": [
        "#3\n",
        "x = \"python programming\"\n",
        "print(x[0:3])"
      ],
      "metadata": {
        "colab": {
          "base_uri": "https://localhost:8080/"
        },
        "id": "tZ0p2vXSHh2g",
        "outputId": "789e0ab1-8ac3-40c4-b473-2a49f5785f2c"
      },
      "execution_count": null,
      "outputs": [
        {
          "output_type": "stream",
          "name": "stdout",
          "text": [
            "pyt\n"
          ]
        }
      ]
    },
    {
      "cell_type": "code",
      "source": [
        "#4\n",
        "\"hello\"\n",
        "print(\"hello\".upper())"
      ],
      "metadata": {
        "colab": {
          "base_uri": "https://localhost:8080/"
        },
        "id": "J02-P43JHsBI",
        "outputId": "e6144cb2-d125-4d70-b599-b047c8ccdae2"
      },
      "execution_count": null,
      "outputs": [
        {
          "output_type": "stream",
          "name": "stdout",
          "text": [
            "HELLO\n"
          ]
        }
      ]
    },
    {
      "cell_type": "code",
      "source": [
        "#5\n",
        "x = \"i like apple\"\n",
        "y = x.replace(\"apple\", \"banana\")\n",
        "print(y)"
      ],
      "metadata": {
        "colab": {
          "base_uri": "https://localhost:8080/"
        },
        "id": "zal-NxEwIksD",
        "outputId": "c923d7bd-b978-4c23-a574-77b74f4d12f4"
      },
      "execution_count": null,
      "outputs": [
        {
          "output_type": "stream",
          "name": "stdout",
          "text": [
            "i like banana\n"
          ]
        }
      ]
    },
    {
      "cell_type": "code",
      "source": [
        "#6\n",
        "numbers = [1, 2, 3, 4, 5]\n",
        "print(numbers)\n"
      ],
      "metadata": {
        "colab": {
          "base_uri": "https://localhost:8080/"
        },
        "id": "3vP5fkNdJLPx",
        "outputId": "68733476-826b-4537-b517-d014670a6665"
      },
      "execution_count": null,
      "outputs": [
        {
          "output_type": "stream",
          "name": "stdout",
          "text": [
            "[1, 2, 3, 4, 5]\n"
          ]
        }
      ]
    },
    {
      "cell_type": "code",
      "source": [
        "#7\n",
        "my_list = [1, 2, 3, 4]\n",
        "my_list.append(10)\n",
        "print(my_list)\n"
      ],
      "metadata": {
        "colab": {
          "base_uri": "https://localhost:8080/"
        },
        "id": "0a3RAlXsJbkg",
        "outputId": "e6996ca2-1fd6-4949-b648-c7c89f047864"
      },
      "execution_count": null,
      "outputs": [
        {
          "output_type": "stream",
          "name": "stdout",
          "text": [
            "[1, 2, 3, 4, 10]\n"
          ]
        }
      ]
    },
    {
      "cell_type": "code",
      "source": [
        "#8\n",
        "my_list = [1, 2, 3, 4, 5]\n",
        "my_list.remove(3)\n",
        "print(my_list)\n"
      ],
      "metadata": {
        "colab": {
          "base_uri": "https://localhost:8080/"
        },
        "id": "IzfnfzKEJgXg",
        "outputId": "0d8b5f6e-68f6-4029-fe93-a3ca5cbe36d5"
      },
      "execution_count": null,
      "outputs": [
        {
          "output_type": "stream",
          "name": "stdout",
          "text": [
            "[1, 2, 4, 5]\n"
          ]
        }
      ]
    },
    {
      "cell_type": "code",
      "source": [
        "#9\n",
        "letters = ['a', 'b', 'c', 'd']\n",
        "print(letters[1])\n"
      ],
      "metadata": {
        "colab": {
          "base_uri": "https://localhost:8080/"
        },
        "id": "u0TEjeEIJjDG",
        "outputId": "92394658-5955-4379-bfcd-33576eee0f82"
      },
      "execution_count": null,
      "outputs": [
        {
          "output_type": "stream",
          "name": "stdout",
          "text": [
            "b\n"
          ]
        }
      ]
    },
    {
      "cell_type": "code",
      "source": [
        "#10\n",
        "my_list = [10, 20, 30, 40, 50]\n",
        "my_list.reverse()\n",
        "print(my_list)\n"
      ],
      "metadata": {
        "colab": {
          "base_uri": "https://localhost:8080/"
        },
        "id": "l0xrXyMxJn8U",
        "outputId": "218ba75a-16cc-4022-da96-318ecc8aab89"
      },
      "execution_count": null,
      "outputs": [
        {
          "output_type": "stream",
          "name": "stdout",
          "text": [
            "[50, 40, 30, 20, 10]\n"
          ]
        }
      ]
    },
    {
      "cell_type": "code",
      "source": [
        "#11\n",
        "my_tuple = (100, 200, 300)\n",
        "print(my_tuple)\n"
      ],
      "metadata": {
        "colab": {
          "base_uri": "https://localhost:8080/"
        },
        "id": "vjfTAZSiJqa2",
        "outputId": "af3373ae-b98f-46f7-8cfd-ba5db61c96f5"
      },
      "execution_count": null,
      "outputs": [
        {
          "output_type": "stream",
          "name": "stdout",
          "text": [
            "(100, 200, 300)\n"
          ]
        }
      ]
    },
    {
      "cell_type": "code",
      "source": [
        "#12\n",
        "colors = ('red', 'green', 'blue', 'yellow')\n",
        "print(colors[-2])"
      ],
      "metadata": {
        "colab": {
          "base_uri": "https://localhost:8080/"
        },
        "id": "biDuAtGPJvex",
        "outputId": "8287b6f7-c1c0-4021-cd0a-1fbf27e2e608"
      },
      "execution_count": null,
      "outputs": [
        {
          "output_type": "stream",
          "name": "stdout",
          "text": [
            "blue\n"
          ]
        }
      ]
    },
    {
      "cell_type": "code",
      "source": [
        "#13\n",
        "nums = (10, 20, 5, 15)\n",
        "print(min(nums))\n"
      ],
      "metadata": {
        "colab": {
          "base_uri": "https://localhost:8080/"
        },
        "id": "-tvAjiusJybf",
        "outputId": "d77fbbdb-1351-4094-e867-81291d884c3c"
      },
      "execution_count": null,
      "outputs": [
        {
          "output_type": "stream",
          "name": "stdout",
          "text": [
            "5\n"
          ]
        }
      ]
    },
    {
      "cell_type": "code",
      "source": [
        "#14\n",
        "animals = ('dog', 'cat', 'rabbit')\n",
        "print(animals.index(\"cat\"))\n"
      ],
      "metadata": {
        "colab": {
          "base_uri": "https://localhost:8080/"
        },
        "id": "Y8SAMfjQJ09d",
        "outputId": "71916440-a9b8-448a-e3cb-dc8ed2ec4d48"
      },
      "execution_count": null,
      "outputs": [
        {
          "output_type": "stream",
          "name": "stdout",
          "text": [
            "1\n"
          ]
        }
      ]
    },
    {
      "cell_type": "code",
      "source": [
        "#15\n",
        "fruits = ('apple', 'banana', 'mango')\n",
        "print(\"kiwi\" in fruits)\n"
      ],
      "metadata": {
        "colab": {
          "base_uri": "https://localhost:8080/"
        },
        "id": "j58pomjtJ4Fd",
        "outputId": "e8c6b1e1-45b7-479e-9c27-b00404ee7d34"
      },
      "execution_count": null,
      "outputs": [
        {
          "output_type": "stream",
          "name": "stdout",
          "text": [
            "False\n"
          ]
        }
      ]
    },
    {
      "cell_type": "code",
      "source": [
        "#16\n",
        "my_set = {'a', 'b', 'c'}\n",
        "print(my_set)\n"
      ],
      "metadata": {
        "colab": {
          "base_uri": "https://localhost:8080/"
        },
        "id": "hp8V_yvuJ7RH",
        "outputId": "13063c0e-2103-4752-d144-7bad8e12ed14"
      },
      "execution_count": null,
      "outputs": [
        {
          "output_type": "stream",
          "name": "stdout",
          "text": [
            "{'b', 'c', 'a'}\n"
          ]
        }
      ]
    },
    {
      "cell_type": "code",
      "source": [
        "#17\n",
        "my_set = {1, 2, 3, 4, 5}\n",
        "my_set.clear()\n",
        "print(my_set)\n"
      ],
      "metadata": {
        "colab": {
          "base_uri": "https://localhost:8080/"
        },
        "id": "3KEFYXSJJ96q",
        "outputId": "96ad0013-2313-478b-db91-0d30ef49050f"
      },
      "execution_count": null,
      "outputs": [
        {
          "output_type": "stream",
          "name": "stdout",
          "text": [
            "set()\n"
          ]
        }
      ]
    },
    {
      "cell_type": "code",
      "source": [
        "#18\n",
        "my_set = {1, 2, 3, 4}\n",
        "my_set.remove(4)\n",
        "print(my_set)\n"
      ],
      "metadata": {
        "colab": {
          "base_uri": "https://localhost:8080/"
        },
        "id": "jOypjkZmKA3u",
        "outputId": "c892b641-689e-4034-e2cc-d08d963990c1"
      },
      "execution_count": null,
      "outputs": [
        {
          "output_type": "stream",
          "name": "stdout",
          "text": [
            "{1, 2, 3}\n"
          ]
        }
      ]
    },
    {
      "cell_type": "code",
      "source": [
        "#19\n",
        "a = {1, 2, 3}\n",
        "b = {3, 4, 5}\n",
        "print(a.union(b))\n"
      ],
      "metadata": {
        "colab": {
          "base_uri": "https://localhost:8080/"
        },
        "id": "amXuWvlrKFVA",
        "outputId": "9b069c9b-3192-419a-9101-792ace495e70"
      },
      "execution_count": null,
      "outputs": [
        {
          "output_type": "stream",
          "name": "stdout",
          "text": [
            "{1, 2, 3, 4, 5}\n"
          ]
        }
      ]
    },
    {
      "cell_type": "code",
      "source": [
        "#20\n",
        "a = {1, 2, 3}\n",
        "b = {2, 3, 4}\n",
        "print(a.intersection(b))\n"
      ],
      "metadata": {
        "colab": {
          "base_uri": "https://localhost:8080/"
        },
        "id": "0utUnp9vKH3k",
        "outputId": "c3ae651c-e1bc-4d9b-c752-1d2f6b84cdc4"
      },
      "execution_count": null,
      "outputs": [
        {
          "output_type": "stream",
          "name": "stdout",
          "text": [
            "{2, 3}\n"
          ]
        }
      ]
    },
    {
      "cell_type": "code",
      "source": [
        "#21\n",
        "person = {\"name\": \"rahul\", \"age\": 25, \"city\": \"Delhi\"}\n",
        "print(person)\n"
      ],
      "metadata": {
        "colab": {
          "base_uri": "https://localhost:8080/"
        },
        "id": "MyJnb7VIKMzW",
        "outputId": "4ce427f8-7e8e-4e4a-9752-6b9e524b5ccd"
      },
      "execution_count": null,
      "outputs": [
        {
          "output_type": "stream",
          "name": "stdout",
          "text": [
            "{'name': 'rahul', 'age': 25, 'city': 'Delhi'}\n"
          ]
        }
      ]
    },
    {
      "cell_type": "code",
      "source": [
        "#22\n",
        "person = {'name': 'rohit', 'age': 25}\n",
        "person[\"country\"] = \"UK\"\n",
        "print(person)\n",
        "\n"
      ],
      "metadata": {
        "colab": {
          "base_uri": "https://localhost:8080/"
        },
        "id": "dLH6z-u9KQcc",
        "outputId": "329ac7c3-d9c5-4034-93fa-82b09e1d5574"
      },
      "execution_count": null,
      "outputs": [
        {
          "output_type": "stream",
          "name": "stdout",
          "text": [
            "{'name': 'rohit', 'age': 25, 'country': 'UK'}\n"
          ]
        }
      ]
    },
    {
      "cell_type": "code",
      "source": [
        "#23\n",
        "data = {'name': 'ankur', 'age': 30}\n",
        "print(data[\"name\"])\n",
        "\n"
      ],
      "metadata": {
        "colab": {
          "base_uri": "https://localhost:8080/"
        },
        "id": "2iyqXNLEKTHn",
        "outputId": "86eeca1a-d779-47a4-91dc-22b5d895e34f"
      },
      "execution_count": null,
      "outputs": [
        {
          "output_type": "stream",
          "name": "stdout",
          "text": [
            "ankur\n"
          ]
        }
      ]
    },
    {
      "cell_type": "code",
      "source": [
        "#24\n",
        "person = {'name': 'lala', 'age': 22, 'city': 'jaipur'}\n",
        "del person[\"age\"]\n",
        "print(person)\n"
      ],
      "metadata": {
        "colab": {
          "base_uri": "https://localhost:8080/"
        },
        "id": "8ad3pTaWKWb6",
        "outputId": "aaa64a51-9b08-41ca-f9be-72e9d1dccc6d"
      },
      "execution_count": null,
      "outputs": [
        {
          "output_type": "stream",
          "name": "stdout",
          "text": [
            "{'name': 'lala', 'city': 'jaipur'}\n"
          ]
        }
      ]
    },
    {
      "cell_type": "code",
      "source": [
        "#25\n",
        "person = {'name': 'ankit', 'city': 'agra'}\n",
        "print(\"city\" in person)\n"
      ],
      "metadata": {
        "colab": {
          "base_uri": "https://localhost:8080/"
        },
        "id": "dinrqJJIKZYC",
        "outputId": "54b03836-d842-4aa8-932d-8451bc7b6717"
      },
      "execution_count": null,
      "outputs": [
        {
          "output_type": "stream",
          "name": "stdout",
          "text": [
            "True\n"
          ]
        }
      ]
    },
    {
      "cell_type": "code",
      "source": [
        "#26\n",
        "my_list = [1, 2, 3]\n",
        "my_tuple = (4, 5, 6)\n",
        "my_dict = {'a': 1, 'b': 2}\n",
        "print(my_list, my_tuple, my_dict)\n"
      ],
      "metadata": {
        "colab": {
          "base_uri": "https://localhost:8080/"
        },
        "id": "x--PY9Z2KcYg",
        "outputId": "e0f60391-af01-4b65-8123-af7a8d539f88"
      },
      "execution_count": null,
      "outputs": [
        {
          "output_type": "stream",
          "name": "stdout",
          "text": [
            "[1, 2, 3] (4, 5, 6) {'a': 1, 'b': 2}\n"
          ]
        }
      ]
    },
    {
      "cell_type": "code",
      "source": [
        "#27\n",
        "import random\n",
        "numbers = random.sample(range(1, 101), 5)\n",
        "numbers.sort()\n",
        "print(numbers)\n"
      ],
      "metadata": {
        "colab": {
          "base_uri": "https://localhost:8080/"
        },
        "id": "6VOEhH-CKwW3",
        "outputId": "942e530d-3d56-4535-8044-ecb551f59b1a"
      },
      "execution_count": null,
      "outputs": [
        {
          "output_type": "stream",
          "name": "stdout",
          "text": [
            "[6, 32, 65, 68, 69]\n"
          ]
        }
      ]
    },
    {
      "cell_type": "code",
      "source": [
        "#28\n",
        "words = [\"one\", \"two\", \"three\", \"four\", \"five\"]\n",
        "print(words[3])\n"
      ],
      "metadata": {
        "colab": {
          "base_uri": "https://localhost:8080/"
        },
        "id": "cFBDw5goKzFb",
        "outputId": "c4d331d8-b444-4b33-c9f3-e4cfda13cd9b"
      },
      "execution_count": null,
      "outputs": [
        {
          "output_type": "stream",
          "name": "stdout",
          "text": [
            "four\n"
          ]
        }
      ]
    },
    {
      "cell_type": "code",
      "source": [
        "#29\n",
        "dict1 = {\"a\": 1, \"b\": 2}\n",
        "dict2 = {\"c\": 3, \"d\": 4}\n",
        "combined = {**dict1, **dict2}\n",
        "print(combined)\n"
      ],
      "metadata": {
        "colab": {
          "base_uri": "https://localhost:8080/"
        },
        "id": "t_KI_PGYK1mY",
        "outputId": "9452d9e1-de53-4dac-f385-052a26c61220"
      },
      "execution_count": null,
      "outputs": [
        {
          "output_type": "stream",
          "name": "stdout",
          "text": [
            "{'a': 1, 'b': 2, 'c': 3, 'd': 4}\n"
          ]
        }
      ]
    },
    {
      "cell_type": "code",
      "source": [
        "#30\n",
        "words = [\"apple\", \"banana\", \"cherry\", \"apple\"]\n",
        "unique_words = set(words)\n",
        "print(unique_words)\n"
      ],
      "metadata": {
        "id": "AeX6MIHpK445",
        "outputId": "cee610f4-1491-48b5-e181-e78a0741dc18",
        "colab": {
          "base_uri": "https://localhost:8080/"
        }
      },
      "execution_count": null,
      "outputs": [
        {
          "output_type": "stream",
          "name": "stdout",
          "text": [
            "{'apple', 'banana', 'cherry'}\n"
          ]
        }
      ]
    },
    {
      "cell_type": "code",
      "source": [],
      "metadata": {
        "id": "EvsOibkoK72t"
      },
      "execution_count": null,
      "outputs": []
    }
  ]
}